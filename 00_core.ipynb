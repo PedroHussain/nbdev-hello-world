{
 "cells": [
  {
   "cell_type": "markdown",
   "id": "bbc86bef",
   "metadata": {},
   "source": [
    "# core\n",
    ">This is my first nbdev application\n"
   ]
  },
  {
   "cell_type": "code",
   "execution_count": null,
   "id": "28ff53a3",
   "metadata": {},
   "outputs": [],
   "source": [
    "#| default_exp core"
   ]
  },
  {
   "cell_type": "code",
   "execution_count": null,
   "id": "be8310ab",
   "metadata": {},
   "outputs": [],
   "source": [
    "#| export\n",
    "def say_hello(to):\n",
    "    \"Say hello to somebody\"\n",
    "    return f'Hello {to}'"
   ]
  },
  {
   "cell_type": "code",
   "execution_count": null,
   "id": "8f165cb7",
   "metadata": {},
   "outputs": [],
   "source": [
    "assert say_hello('Pedro') == 'Hello Pedro'"
   ]
  },
  {
   "cell_type": "code",
   "execution_count": null,
   "id": "ba923a9a",
   "metadata": {},
   "outputs": [],
   "source": [
    "#| hide\n",
    "import nbdev; nbdev.nbdev_export()"
   ]
  },
  {
   "cell_type": "code",
   "execution_count": null,
   "id": "d9ff7272",
   "metadata": {},
   "outputs": [],
   "source": [
    "from fastcore.test import *"
   ]
  },
  {
   "cell_type": "code",
   "execution_count": null,
   "id": "c1ee1945",
   "metadata": {},
   "outputs": [],
   "source": [
    "# Test\n",
    "test_eq(say_hello('Pedro'), 'Hello Pedro')"
   ]
  },
  {
   "cell_type": "code",
   "execution_count": null,
   "id": "8e145e8b",
   "metadata": {},
   "outputs": [],
   "source": []
  }
 ],
 "metadata": {
  "kernelspec": {
   "display_name": "python3",
   "language": "python",
   "name": "python3"
  }
 },
 "nbformat": 4,
 "nbformat_minor": 5
}
